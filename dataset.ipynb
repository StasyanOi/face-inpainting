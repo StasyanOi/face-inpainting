{
 "nbformat": 4,
 "nbformat_minor": 5,
 "metadata": {
  "notebookId": "d62d0d74-91f9-4d0c-8ea5-c333c4e33390",
  "language_info": {
   "mimetype": "text/x-python",
   "version": "3.7.7",
   "file_extension": ".py",
   "pygments_lexer": "ipython3",
   "nbconvert_exporter": "python",
   "name": "python",
   "codemirror_mode": {
    "name": "ipython",
    "version": 3
   }
  },
  "kernelspec": {
   "name": "python3",
   "display_name": "Yandex DataSphere Kernel",
   "language": "python"
  }
 },
 "cells": [
  {
   "cell_type": "code",
   "source": "",
   "metadata": {
    "cellId": "ngppqu3jk9m82a3xbik342"
   },
   "outputs": [],
   "execution_count": null
  },
  {
   "cell_type": "code",
   "source": "from cloud_ml.storage.api import Storage\n\n# To retrieve application id and secret:\n# 1. Go to link: https://oauth.yandex.ru/client/new\n# 2. Choose 'Web services'\n# 3. Paste into 'Callback URI': https://oauth.yandex.ru/verification_code\n# 4. Set up permissions on yandex disk\ndisk = Storage.ya_disk(application_id='bf0cf4a358ba478787951f5095418e1d', application_secret='7b0d1705b6d846e78dd92fbefc1737ad')\n\n# downloading contents of the remote file into the local one\ndisk.get('CelebA-HQ-img-256-256-masked.zip', 'CelebA-HQ-img-256-256-masked.zip')\ndisk.get('CelebA-HQ-img-256-256-labels.zip', 'CelebA-HQ-img-256-256-labels.zip')\ndisk.get('CelebA-HQ-img-256-256-merged.zip', 'CelebA-HQ-img-256-256-merged.zip')\ndisk.get('CelebA-HQ-img-256-256.zip', 'CelebA-HQ-img-256-256.zip')\n",
   "metadata": {
    "cellId": "nvqnckk1ngkfnmb242f9vj",
    "trusted": true
   },
   "outputs": [
    {
     "output_type": "stream",
     "name": "stdout",
     "text": ""
    }
   ],
   "execution_count": 48
  },
  {
   "cell_type": "code",
   "source": "import zipfile\nfrom tqdm import tqdm\n\nfname = './CelebA-HQ-img-256-256-masked.zip'\npath = './medical/'\n\nwith zipfile.ZipFile(fname, 'r') as zf:\n    for entry in tqdm(zf.infolist(), desc='Extracting '):\n        try:\n            zf.extract(entry, path)\n        except zipfile.error as e:\n            pass\n",
   "metadata": {
    "cellId": "1nhox58v5lk4v143oq229",
    "trusted": true
   },
   "outputs": [
    {
     "output_type": "stream",
     "name": "stderr",
     "text": "Extracting : 100%|██████████| 29576/29576 [02:06<00:00, 233.11it/s]\n/kernel/lib/python3.7/site-packages/ipystate/state.py:135: UserWarning: Skipping walk through <class 'dict'> with size: 29576\nUse %enable_full_walk to serialize all variables correctly\n  {name: self._state[name] for name in self._state.varnames() if not self._skip_variable(name)}\n/kernel/lib/python3.7/site-packages/ipystate/state.py:135: UserWarning: Skipping walk through <class 'list'> with size: 29576\nUse %enable_full_walk to serialize all variables correctly\n  {name: self._state[name] for name in self._state.varnames() if not self._skip_variable(name)}\n/kernel/lib/python3.7/site-packages/ml_kernel/kernel.py:882: UserWarning: The following variables cannot be serialized: disk, zf\n  warnings.warn(message)\n"
    }
   ],
   "execution_count": 49
  }
 ]
}